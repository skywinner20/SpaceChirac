{
 "cells": [
  {
   "cell_type": "markdown",
   "metadata": {},
   "source": [
    "# PyGame\n",
    "---\n",
    "\n",
    "*Pygame* est une bibliothèque Python qui peut être considérée comme un sorte d'interface graphique.\n",
    "En réalité, *Pygame* est une adaptation de la **SDL** au service de Python initié par *Pete Shinners* en 2000.\n",
    "\n",
    "La **SDL**, pour *Simple Directmedia Library*, est une bibliothèque libre multi-plateformes permettant la gestion du multimédia dans la programmation. La SDL est écrite en C, mais est utilisable avec un grand nombre de langages, comme le C/C++, Pascal, Perl ou encore ... Python !\n",
    "\n",
    "Parmis ses utilisations, on peut retenir :\n",
    "\n",
    "* L'affichage vidéo 2D\n",
    "* La gestion de l'audio\n",
    "* La gestion de périphériques de commandes (clavier, souris...)\n",
    "\n",
    "Ce qui va nous permettre de nous initier à la création de jeu vidéos (simples) en 2D.\n",
    "\n",
    "La différence majeure que nous allons rencontrer lors de la programmation avec une interface graphique est que le programme ne *pilote* plus les évènements, mais il est cette fois *piloté* par ceux-ci.\n",
    "\n",
    "## Débuter avec Pygame\n",
    "\n",
    "### La bibliothèque\n",
    "\n",
    "Pour savoir comment utiliser la bibliothèque dans votre code Python, il faut savoir de quoi celle-ci est composée. Après un petit tour sur la [documentation Pygame](http://pygame.org/docs), nous pouvons voir que Pygame est en fait composé de plusieurs modules, dont quelques uns des plus importants :\n",
    "\n",
    "* display\n",
    "* mixer\n",
    "* draw\n",
    "* event\n",
    "* image\n",
    "* mouse\n",
    "* time\n",
    "\n",
    "Les noms des principaux modules sont assez explicites.\n",
    "La bibliothèque est *découpées* en plusieurs parties, chacune gérant un système bien précis.\n",
    "Par exemple, le module `display` s'occupe de l'affichage du programme à l'écran, et le module `mixer` se charge de la gestion des sons.\n",
    "\n",
    "### Importation\n",
    "\n",
    "Imaginez un programme qui, quand on le lance, se contente de jouer un son. \n",
    "Vous pouvez utiliser *Pygame*, mais charger toute la bibliothèque pour jouer un son est loin d'être optimal.\n",
    "C'est pour cela que l'on peut importer les modules un par un dans le script. \n",
    "Pour jouer un son, nous avons seulement besoin du module *mixer*, nous l'importons donc avec :"
   ]
  },
  {
   "cell_type": "code",
   "execution_count": null,
   "metadata": {},
   "outputs": [],
   "source": [
    "import pygame.mixer"
   ]
  },
  {
   "cell_type": "markdown",
   "metadata": {},
   "source": [
    "Si vous souhaitez quand même importer tous les modules présents dans la bibliothèque Pygame, vous devrez utiliser :"
   ]
  },
  {
   "cell_type": "code",
   "execution_count": null,
   "metadata": {},
   "outputs": [],
   "source": [
    "import pygame"
   ]
  },
  {
   "cell_type": "markdown",
   "metadata": {},
   "source": [
    "Il est aussi conseillé d'importer les constantes de Pygame dans l'espace de votre script.\n",
    "De cette manière, pour y accéder, il faudra taper `CONSTANTE`, plutôt que `pygame.CONSTANTE`.\n",
    "Cela vous permettra une meilleure lisibilité dans l'utilisation de ces constantes, vous verrez plus tard à quoi elles serviront."
   ]
  },
  {
   "cell_type": "code",
   "execution_count": null,
   "metadata": {},
   "outputs": [],
   "source": [
    "from pygame.locals import *"
   ]
  },
  {
   "cell_type": "markdown",
   "metadata": {},
   "source": [
    "**ATTENTION : A cause d'un probleme d'interaction entre le notebook et la fenêtre pygame, l'exécution habituelle bloc à bloc ne vous permettra pas de voir les effets des instructions.  \n",
    "Pour y remédier il faut que le fenêtre pygame reste active. \n",
    "Une façon de faire est de lui faire surveiller les évènements (cf 2.).  \n",
    "Il suffit de rajouter la boucle infinie suivante à votre bloc. Elle s'interrompra lorsque vous cliquerez sur la croix permettant de fermer la fenêtre.  \n",
    "La fenêtre restera visible (bug ou feature?) ne vous en occupez plus, elle n'existe plus.**\n",
    "```\n",
    "cont = True  \n",
    "while cont:    \n",
    "    for event in pygame.event.get():\n",
    "        if event.type == QUIT:\n",
    "            cont=False\n",
    "```"
   ]
  },
  {
   "cell_type": "markdown",
   "metadata": {},
   "source": [
    "### Première fenêtre\n",
    "\n",
    "Pour afficher une fenêtre, nous n'avons pas besoin de toute la bibliothèque *Pygame*, mais nous allons quand même l'importer en intégralité car nous utiliserons par la suite des fonctionnalités venant de plusieurs de ses modules.\n",
    "Nous aurons également besoin des `CONSTANTE`.\n",
    "\n",
    "Avant de pouvoir faire quoique ce soit avec Pygame, il est nécessaire de l'initialiser.\n",
    "Pour initialisee tous les modules, on utilise :"
   ]
  },
  {
   "cell_type": "code",
   "execution_count": null,
   "metadata": {},
   "outputs": [],
   "source": [
    "pygame.init()"
   ]
  },
  {
   "cell_type": "markdown",
   "metadata": {},
   "source": [
    "Nous pouvons à présent créer une fenêtre, vide pour le moment, à l'aide de la fonction `set_mode()` contenue dans le module `display` de la bilbiothèque `pygame` :"
   ]
  },
  {
   "cell_type": "code",
   "execution_count": null,
   "metadata": {},
   "outputs": [],
   "source": [
    "fenetre = pygame.display.set_mode((800,600), RESIZABLE)"
   ]
  },
  {
   "cell_type": "markdown",
   "metadata": {},
   "source": [
    "Nous avons déclaré une variable `fenetre` qui contient le retour de la fonction `set_mode()`.\n",
    "\n",
    "Cette fonction prend en paramètre un tuple contenant la largeur et la hauteur de la fenêtre voulue.\n",
    "**Attention**, c'est un bien un tuple, et non pas deux arguments différents, il est donc nécessaire de mettre les parenthèses !\n",
    "Le mot clé `RESIZABLE` doit permettre le redimensionnement de la fenêtre avec la souris, vous pouvez aussi utiliser `FULLSCREEN`.\n",
    "\n",
    "Cette fonction retourne un objet de classe `Surface`, définie par *Pygame*.\n",
    "La variable `fenetre` est donc une instance de cette classe qui pour l'instant est vierge, d'où une fenêtre vide.\n",
    "Cette classe sera aussi utilisée chacune des images affichées dans la fenêtre.\n",
    "\n",
    "Pour l'instant la fenêtre est un peu figée et ne se ferme même pas. Nous verrons un peu plus tard comment utiliser les événements pour permettre à l'utilisateur de fermer la fenêtre d'un clic sur le bouton de fermeture.\n",
    "\n",
    "### Afficher une image\n",
    "\n",
    "Nous allons commencer par afficher un fond pour cette fenêtre, il nous faut donc une image de 800 x 600 (au moins).\n",
    "Dans un premier temps nous utiliserons l'image *Stars.jpg* qui a été correctement redimensionnée.\n",
    "\n",
    "Pour charger une image nous allons utiliser la fonction `load()` du module `image` de la bibliothèque `pygame`.\n",
    "La fonction load() retourne un objet *Surface* contenant l'image voulue. \n",
    "Cependant, elle a gardé le format de pixels de l'image source, qui peut différer de celui utilisé par *Pygame*.\n",
    "Pour régler ce problème, nous utilisons la fonction `convert()`, qui vient tout de suite après `load()`. \n",
    "Grâce à cette ligne, votre image sera chargée et convertie au bon format, ce qui rendra l'affichage plus rapide.\n",
    "\n",
    "Python n'aura plus à convertir l'image à chaque affichage ! Je vous conseille de faire ceci avec **toutes** vos images !"
   ]
  },
  {
   "cell_type": "code",
   "execution_count": null,
   "metadata": {},
   "outputs": [],
   "source": [
    "fond = pygame.image.load(\"img/pygm/Stars.jpg\").convert()"
   ]
  },
  {
   "cell_type": "markdown",
   "metadata": {},
   "source": [
    "Le principe d'affichage de la *SDL* est à connaître pour bien afficher ses images :\n",
    "`fenetre` est un objet `Surface` vide sur laquelle on va *coller* ou *empiler* les autres images.\n",
    "Le fond doit donc être empilé sur la surface vide de la fenêtre.\n",
    "\n",
    "Pour *empiler* nous utilisons la méthode `blit()` de la `Surface fenetre` qui nécessite deux paramètres :\n",
    "\n",
    "1. l'image à coller.\n",
    "2. le tuple contenant l'abscisse et l'ordonnée du point de collage (coin en haut à gauche de l'image)"
   ]
  },
  {
   "cell_type": "code",
   "execution_count": null,
   "metadata": {},
   "outputs": [],
   "source": [
    "fenetre.blit(fond, (0,0))"
   ]
  },
  {
   "cell_type": "markdown",
   "metadata": {},
   "source": [
    "Ce code peut se résumer par :\n",
    "\n",
    "*sur l'image fenetre, colle l'image fond, en commençant au coin en haut à gauche.*\n",
    "\n",
    "La fenêtre n'affiche pas votre fond ?\n",
    "C'est normal, il faut savoir que quand on *colle* une image, celle-ci n'apparait pas sur l'écran qu'on avait avant de la coller.\n",
    "En effet, il faut *mettre à jour*, ou *rafraîchir*, l'écran pour voir les changements effectués depuis le dernier rafraîchissement : "
   ]
  },
  {
   "cell_type": "code",
   "execution_count": null,
   "metadata": {},
   "outputs": [],
   "source": [
    "pygame.display.flip()\n",
    "\n",
    "# la fameuse boucle mentionnée plus tôt vous permet de voir le fond s'afficher dans la fenêtre.\n",
    "cont = True\n",
    "while cont:    \n",
    "    for event in pygame.event.get():\n",
    "        if event.type == QUIT:\n",
    "            cont=False            "
   ]
  },
  {
   "cell_type": "markdown",
   "metadata": {},
   "source": [
    "#### Exercice 1\n",
    "\n",
    "Maintenant que nous avons un magnifique fond étoilé, à vous de faire apparaître le *Faucon Millénium* aux cordonnées x = 300 et y = 250.  \n",
    "Vous utiliserez la variable `falcon` pour charger l'image *MilleniumFalcon.png*.  \n",
    "C'est une image avec de la transparence autours du vaisseau, pour charger une telle image on utilise `convert_alpha()` à la place de `convert()`  "
   ]
  },
  {
   "cell_type": "code",
   "execution_count": null,
   "metadata": {},
   "outputs": [],
   "source": []
  },
  {
   "cell_type": "markdown",
   "metadata": {},
   "source": [
    "vous avez affiché votre première fenêtre Pygame, et vos premières images.\n",
    "\n",
    "#### Exercice 2\n",
    "\n",
    "Faites maintenant une nouvelle fenêtre avec un autre thème que **Star Wars**, vous y insèrerez plusieurs autres images, à d'autres endroits et empilées les unes sur les autres pour familiariser avec ce concept."
   ]
  },
  {
   "cell_type": "markdown",
   "metadata": {},
   "source": [
    "## Evenements et interractions\n",
    "\n",
    "Un événement peut prendre plusieurs formes, il peut être amené par la pression ou le relâchement d'une touche du clavier, ou encore d'un bouton de la souris, un mouvement de la souris, du joystick, etc...\n",
    "Mais il peut aussi être un déplacement ou un redimensionnement de la fênetre !\n",
    "\n",
    "Un événement est donc tout ce que le programme peut *capter*, de la part de l'utilisateur.\n",
    "\n",
    "Nous allons dans cette partie apprendre à capturer tous ces événements et à attribuer à chacun d'eux une action bien précise.\n",
    "\n",
    "Pour que le programme puisse capter les évènements, il faut qu'il surveille constament ce qu'il se passe. \n",
    "Pour ce faire nous allons utiliser la boucle (quasi-)infinie précédente dans laquelle nous allons dire au programme de récupérer les évènements.\n",
    "\n",
    "La récupération des évènements se fait grâce à la méthode `get()` du module `event` de `pygame`.\n",
    "Cette fonction retourne une liste d'objets `Event`, pour lesquels on peut connaître le type, la touche enfoncée si c'est au clavier, la position du curseur si c'est un clic, etc...\n",
    "Il faudra donc parcourir cette liste d'`Event` pour y trouver les évènements qui nous intéressent. \n",
    "\n",
    "### Fermeture de la fenêtre\n",
    "\n",
    "Le clic sur le bouton de fermeture de la fenêtre génère un évènement de type `QUIT`qui fait partie des `CONSTANTE` de *pygame* que nous avons importé dans notre espace local au début.\n",
    "\n",
    "Pour connaître le type d'un `Event` on regarde l'attribut `type` de la classe `event` de `pygame`.\n",
    "\n",
    "Enfin pour fermer cette fenêtre (**en dehors du notebook**), on appelle la méthode `quit()` du module `display` de `pygame` et on oublie pas de sortir de notre boucle.  \n",
    "\n",
    "Compte tenu du mode de fonctionnement de la SDL, après chaque évènement il faut afficher à nouveau les différentes images et rafraichir la fenêtre, d'où les `fenetre.blit` et le `pygame.display.flip` en début de boucle."
   ]
  },
  {
   "cell_type": "code",
   "execution_count": null,
   "metadata": {},
   "outputs": [],
   "source": [
    "cont = True\n",
    "while cont:\n",
    "    \n",
    "    fenetre.blit(fond, (0,0))\n",
    "    pygame.display.flip()\n",
    "    \n",
    "    for event in pygame.event.get():\n",
    "        if event.type == QUIT:\n",
    "            cont=False\n",
    "            pygame.display.quit()"
   ]
  },
  {
   "cell_type": "markdown",
   "metadata": {},
   "source": [
    "**ATTENTION : vous avez fermé la fenêtre avec la croix, la fenêtre n'existe plus, il faudra en recréer une avec la commande ci-dessous pour recommencer.**"
   ]
  },
  {
   "cell_type": "code",
   "execution_count": null,
   "metadata": {},
   "outputs": [],
   "source": [
    "fenetre = pygame.display.set_mode((800,600), RESIZABLE)"
   ]
  },
  {
   "cell_type": "markdown",
   "metadata": {},
   "source": [
    "### Evenements du clavier\n",
    "\n",
    "Le type d'événement créé lorsque l'on appuie sur une touche est `KEYDOWN` ou `KEYUP` au relâchement de la touche.\n",
    "On peut donc créer une condition semblable à la précédente :\n",
    ">if event.type == KEYDOWN:\n",
    "\n",
    "Mais attention, cette condition sera vraie quelque soit la touche pressée ! \n",
    "Pour définir une seule touche du clavier, il faut regarder l'attribut `key` de la classe `event`, qui détermine la touche pressée, disponible uniquement lors d'un événement clavier.\n",
    "\n",
    "Cet `event.key` peut par exemple prendre les valeurs suivantes :\n",
    "\n",
    "**Lettres:**\n",
    "K_a ... K_z\n",
    "\n",
    "**Nombres:**\n",
    "K_0 ... K_9\n",
    "\n",
    "**Controles:**\n",
    "K_TAB\n",
    "K_RETURN\n",
    "K_ESCAPE\n",
    "K_SCROLLOCK\n",
    "K_SYSREQ\n",
    "K_BREAK\n",
    "K_DELETE\n",
    "K_BACKSPACE\n",
    "K_CAPSLOCK\n",
    "K_CLEAR\n",
    "K_NUMLOCK\n",
    "\n",
    "**Ponctuation:**\n",
    "K_SPACE\n",
    "K_PERIOD\n",
    "K_COMMA\n",
    "K_QUESTION\n",
    "K_AMPERSAND\n",
    "K_ASTERISK\n",
    "K_AT\n",
    "K_CARET\n",
    "K_BACKQUOTE\n",
    "K_DOLLAR\n",
    "K_EQUALS\n",
    "K_EURO\n",
    "K_EXCLAIM\n",
    "K_SLASH, K_BACKSLASH\n",
    "K_COLON, K_SEMICOLON\n",
    "K_QUOTE, K_QUOTEDBL\n",
    "K_MINUS, K_PLUS\n",
    "K_GREATER, K_LESS\n",
    "\n",
    "**Parenthèses:**\n",
    "K_RIGHTBRACKET, K_LEFTBRACKET\n",
    "K_RIGHTPAREN, K_LEFTPAREN\n",
    "\n",
    "**Touches F:**\n",
    "K_F1 ... K_F15\n",
    "\n",
    "**Touches d'édition:**\n",
    "K_HELP\n",
    "K_HOME\n",
    "K_END\n",
    "K_INSERT\n",
    "K_PRINT\n",
    "K_PAGEUP, K_PAGEDOWN\n",
    "K_FIRST, K_LAST\n",
    "\n",
    "**Clavier numérique:**\n",
    "K_KP0 ... K_KP9\n",
    "K_KP_DIVIDE\n",
    "K_KP_ENTER\n",
    "K_KP_EQUALS\n",
    "K_KP_MINUS\n",
    "K_KP_MULTIPLY\n",
    "K_KP_PERIOD\n",
    "K_KP_PLUS\n",
    "\n",
    "**SHF,CTL,ALT etc:**\n",
    "K_LALT, K_RALT\n",
    "K_LCTRL, K_RCTRL\n",
    "K_LSUPER, K_RSUPER\n",
    "K_LSHIFT, K_RSHIFT\n",
    "K_RMETA, K_LMETA\n",
    "\n",
    "**Flèches:**\n",
    "K_LEFT\n",
    "K_UP\n",
    "K_RIGHT\n",
    "K_DOWN\n",
    "\n",
    "**Autres:**\n",
    "K_MENU\n",
    "K_MODE\n",
    "K_PAUSE\n",
    "K_POWER\n",
    "K_UNDERSCORE\n",
    "K_HASH\n",
    "\n",
    "#### Exercices 3\n",
    "\n",
    "1. Ajoutez une condition à la boucle précédente afin d'afficher **Vitesse Lumiere** lorsqu'on appuie sur la barre d'espace.\n",
    "2. Ajoutez le code nécessaire afin d'afficher la direction souhaitée lorsque une des flèches directionnelles est appuyée."
   ]
  },
  {
   "cell_type": "markdown",
   "metadata": {},
   "source": [
    "### Mouvements des images\n",
    "\n",
    "Nous allons maintenant essayer de faire bouger le *Faucon Millenium* avec les flèches du clavier.\n",
    "\n",
    "Pour cela nous utiliserons un nouvel objet, l'objet `Rect`, qui permet de manipuler des surfaces rectangulaires. \n",
    "`Rect` stocke les positions d'une surface. \n",
    "Pour créer un `Rect`, nous utilisons la méthode `get_rect()` de la classe `surface`.\n",
    "Pour obtenir le `Rect` `pos_falcon` à partir du `falcon` de l'Exercice 1:"
   ]
  },
  {
   "cell_type": "code",
   "execution_count": null,
   "metadata": {},
   "outputs": [],
   "source": [
    "pos_falcon = falcon.get_rect()"
   ]
  },
  {
   "cell_type": "markdown",
   "metadata": {},
   "source": [
    "Les valeurs par défaut pour l'abscisse et l'ordonnée sont 0, donc si vous utilisez le Rect de base pour établir la position, le *Faucon Millenium* sera dans l'angle en haut à gauche :"
   ]
  },
  {
   "cell_type": "code",
   "execution_count": null,
   "metadata": {},
   "outputs": [],
   "source": [
    "fenetre.blit(falcon, pos_falcon)"
   ]
  },
  {
   "cell_type": "markdown",
   "metadata": {},
   "source": [
    "Nous possédons maintenant une image `faucon` donc les coordonnées sont gérés par le `Rect` `position_perso`.\n",
    "\n",
    "Le code de chargement complet de l'image est celui ci :"
   ]
  },
  {
   "cell_type": "code",
   "execution_count": null,
   "metadata": {},
   "outputs": [],
   "source": [
    "falcon = pygame.image.load(\"img/pygm/MilleniumFalcon.png\").convert_alpha()\n",
    "pos_falcon = falcon.get_rect()\n",
    "fenetre.blit(falcon, pos_falcon)"
   ]
  },
  {
   "cell_type": "markdown",
   "metadata": {},
   "source": [
    "Nous voulons maintenant que quand on appuie sur une flèche, le *Faucon Millenium* se déplace de 5 pixels dans cette direction.\n",
    "\n",
    "Pour déplacer un `Rect`, nous utilisons sa méthode `move()` qui prend 2 paramètres :\n",
    "\n",
    "1. Déplacement en X en nombre de pixels (positif =  vers le bas)\n",
    "2. Déplacement en Y en nombre de pixels (positif =  vers la droite)\n",
    "\n",
    "Les déplacements peuvent être positifs ou négatifs et la nouvelle position vient remplacer la précédente.\n",
    "Par exemple pour déplacer de 5 pixels vers le haut :\n",
    "> `pos_falcon = pos_falcon.move(0,-5)``\n",
    "\n",
    "Nous allons donc procéder comme ceci :\n",
    "\n",
    "1. Attente de l'événement\n",
    "2. Modification de la position du `Rect`\n",
    "3. Re-collage du fond pour recouvrir la fenêtre et repartir à zéro\n",
    "4. Collage du *Faucon Millenium* à sa nouvelle position\n",
    "5. Rafraîchissement de l'écran"
   ]
  },
  {
   "cell_type": "markdown",
   "metadata": {
    "collapsed": true
   },
   "source": [
    "#### Exercice 4\n",
    "Utiliser les flèches du clavier pour déplacer le *Faucon* dans les 4 directions cardinales.\n",
    "Peut-on le déplacer en diagonale ?"
   ]
  },
  {
   "cell_type": "markdown",
   "metadata": {},
   "source": [
    "Si vous souhaitez pouvoir effectuer le déplacement plusieurs fois en laissant la touche enfoncée, vous devez utiliser la fonction :\n",
    "> `pygame.key.set_repeat()`\n",
    "\n",
    "qui prend en paramètres :\n",
    "\n",
    "1. Le délai avant de continuer les déplacements quand la touche reste enfoncée (en millisecondes)\n",
    "2. Le temps entre chaque déplacement. (en millisecondes)\n",
    "\n",
    "Placez-la avant la boucle principale, par exemple :"
   ]
  },
  {
   "cell_type": "code",
   "execution_count": null,
   "metadata": {},
   "outputs": [],
   "source": [
    "pygame.key.set_repeat(500,50)"
   ]
  },
  {
   "cell_type": "markdown",
   "metadata": {},
   "source": [
    "### Code executable\n",
    "\n",
    "Le bloc suivant contenant les `import` n'est à exécuter qu'une seule fois au début du run (après chaque kernel restart aussi)"
   ]
  },
  {
   "cell_type": "code",
   "execution_count": null,
   "metadata": {},
   "outputs": [],
   "source": [
    "import pygame\n",
    "from pygame.locals import *\n",
    "\n",
    "pygame.init()"
   ]
  },
  {
   "cell_type": "markdown",
   "metadata": {},
   "source": [
    "Le bloc suivant contient toutes les instructions présentées précédement ainsi que la boucle infinie de gestion des évènements afin d'avoir une interaction avec le notebook"
   ]
  },
  {
   "cell_type": "code",
   "execution_count": null,
   "metadata": {},
   "outputs": [],
   "source": [
    "fenetre = pygame.display.set_mode((800,600), RESIZABLE)\n",
    "\n",
    "fond = pygame.image.load(\"img/pygm/Stars.jpg\").convert()\n",
    "\n",
    "#Exercice 1\n",
    "\n",
    "cont = True\n",
    "while cont:\n",
    "    fenetre.blit(fond, (0,0))\n",
    "    pygame.display.flip()\n",
    "\n",
    "    for event in pygame.event.get():\n",
    "        if event.type == QUIT:\n",
    "            cont=False\n",
    "            pygame.display.quit()"
   ]
  },
  {
   "cell_type": "markdown",
   "metadata": {},
   "source": [
    "### Exercice\n",
    "\n",
    "Modifiez votre code afin que le *Faucon Millenium* se déplace à présent sur un [Tore](https://fr.wikipedia.org/wiki/Tore).\n",
    "Lorsque plus de la moitié du *Faucon Millenium* dépasse du bord droit, il réapparaît au même niveau sur le bord gauche. S'il disparaît en haut il revient par le bas et vice-versa."
   ]
  },
  {
   "cell_type": "code",
   "execution_count": null,
   "metadata": {},
   "outputs": [],
   "source": []
  },
  {
   "cell_type": "markdown",
   "metadata": {},
   "source": [
    "---\n",
    "Sources :\n",
    "[OpenClassRooms](https://openclassrooms.com/courses/interface-graphique-pygame-pour-python) ; \n",
    "[PyGame](http://www.pygame.org)\n",
    "\n",
    "\n",
    "Crée par *David Da SILVA* - Gymnase de Chamblandes - 2020\n",
    "\n",
    "<a rel=\"license\" href=\"https://creativecommons.org/licenses/by-nc-sa/4.0/deed.fr\"><img alt=\"Creative Commons License\" style=\"border-width:0\" src=\"https://mirrors.creativecommons.org/presskit/buttons/88x31/png/by-nc-sa.eu.png\" width=\"88\" height=\"31\" /></a><br />Ce travail est est placé sous les termes de la <a rel=\"license\" href=\"https://creativecommons.org/licenses/by-nc-sa/4.0/deed.fr\">Creative Commons</a> Attribution - Pas d’Utilisation Commerciale - Partage dans les Mêmes Conditions 4.0 International (CC BY-NC-SA 4.0)."
   ]
  }
 ],
 "metadata": {
  "kernelspec": {
   "display_name": "Python 3 (ipykernel)",
   "language": "python",
   "name": "python3"
  },
  "language_info": {
   "codemirror_mode": {
    "name": "ipython",
    "version": 3
   },
   "file_extension": ".py",
   "mimetype": "text/x-python",
   "name": "python",
   "nbconvert_exporter": "python",
   "pygments_lexer": "ipython3",
   "version": "3.9.7"
  },
  "latex_envs": {
   "LaTeX_envs_menu_present": true,
   "autoclose": false,
   "autocomplete": true,
   "bibliofile": "biblio.bib",
   "cite_by": "apalike",
   "current_citInitial": 1,
   "eqLabelWithNumbers": true,
   "eqNumInitial": 1,
   "hotkeys": {
    "equation": "Ctrl-E",
    "itemize": "Ctrl-I"
   },
   "labels_anchors": false,
   "latex_user_defs": false,
   "report_style_numbering": false,
   "user_envs_cfg": false
  },
  "toc": {
   "base_numbering": 1,
   "nav_menu": {},
   "number_sections": true,
   "sideBar": true,
   "skip_h1_title": true,
   "title_cell": "Table of Contents",
   "title_sidebar": "Contents",
   "toc_cell": false,
   "toc_position": {},
   "toc_section_display": true,
   "toc_window_display": true
  }
 },
 "nbformat": 4,
 "nbformat_minor": 1
}
